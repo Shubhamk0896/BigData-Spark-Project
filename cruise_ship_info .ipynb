{
  "nbformat": 4,
  "nbformat_minor": 0,
  "metadata": {
    "colab": {
      "name": "cruise_ship_info.ipynb",
      "provenance": [],
      "collapsed_sections": []
    },
    "kernelspec": {
      "name": "python3",
      "display_name": "Python 3"
    },
    "language_info": {
      "name": "python"
    }
  },
  "cells": [
    {
      "cell_type": "code",
      "execution_count": 3,
      "metadata": {
        "colab": {
          "base_uri": "https://localhost:8080/"
        },
        "id": "owh9CzklhLWq",
        "outputId": "5598a764-8287-404b-8c98-bddeefa83f4d"
      },
      "outputs": [
        {
          "output_type": "stream",
          "name": "stdout",
          "text": [
            "Collecting koalas\n",
            "  Downloading koalas-1.8.2-py3-none-any.whl (390 kB)\n",
            "\u001b[?25l\r\u001b[K     |▉                               | 10 kB 20.5 MB/s eta 0:00:01\r\u001b[K     |█▊                              | 20 kB 9.0 MB/s eta 0:00:01\r\u001b[K     |██▌                             | 30 kB 7.8 MB/s eta 0:00:01\r\u001b[K     |███▍                            | 40 kB 3.6 MB/s eta 0:00:01\r\u001b[K     |████▏                           | 51 kB 3.6 MB/s eta 0:00:01\r\u001b[K     |█████                           | 61 kB 4.3 MB/s eta 0:00:01\r\u001b[K     |█████▉                          | 71 kB 4.6 MB/s eta 0:00:01\r\u001b[K     |██████▊                         | 81 kB 4.8 MB/s eta 0:00:01\r\u001b[K     |███████▌                        | 92 kB 5.3 MB/s eta 0:00:01\r\u001b[K     |████████▍                       | 102 kB 4.3 MB/s eta 0:00:01\r\u001b[K     |█████████▎                      | 112 kB 4.3 MB/s eta 0:00:01\r\u001b[K     |██████████                      | 122 kB 4.3 MB/s eta 0:00:01\r\u001b[K     |███████████                     | 133 kB 4.3 MB/s eta 0:00:01\r\u001b[K     |███████████▊                    | 143 kB 4.3 MB/s eta 0:00:01\r\u001b[K     |████████████▋                   | 153 kB 4.3 MB/s eta 0:00:01\r\u001b[K     |█████████████▍                  | 163 kB 4.3 MB/s eta 0:00:01\r\u001b[K     |██████████████▎                 | 174 kB 4.3 MB/s eta 0:00:01\r\u001b[K     |███████████████                 | 184 kB 4.3 MB/s eta 0:00:01\r\u001b[K     |████████████████                | 194 kB 4.3 MB/s eta 0:00:01\r\u001b[K     |████████████████▊               | 204 kB 4.3 MB/s eta 0:00:01\r\u001b[K     |█████████████████▋              | 215 kB 4.3 MB/s eta 0:00:01\r\u001b[K     |██████████████████▌             | 225 kB 4.3 MB/s eta 0:00:01\r\u001b[K     |███████████████████▎            | 235 kB 4.3 MB/s eta 0:00:01\r\u001b[K     |████████████████████▏           | 245 kB 4.3 MB/s eta 0:00:01\r\u001b[K     |█████████████████████           | 256 kB 4.3 MB/s eta 0:00:01\r\u001b[K     |█████████████████████▉          | 266 kB 4.3 MB/s eta 0:00:01\r\u001b[K     |██████████████████████▋         | 276 kB 4.3 MB/s eta 0:00:01\r\u001b[K     |███████████████████████▌        | 286 kB 4.3 MB/s eta 0:00:01\r\u001b[K     |████████████████████████▎       | 296 kB 4.3 MB/s eta 0:00:01\r\u001b[K     |█████████████████████████▏      | 307 kB 4.3 MB/s eta 0:00:01\r\u001b[K     |██████████████████████████      | 317 kB 4.3 MB/s eta 0:00:01\r\u001b[K     |██████████████████████████▉     | 327 kB 4.3 MB/s eta 0:00:01\r\u001b[K     |███████████████████████████▊    | 337 kB 4.3 MB/s eta 0:00:01\r\u001b[K     |████████████████████████████▌   | 348 kB 4.3 MB/s eta 0:00:01\r\u001b[K     |█████████████████████████████▍  | 358 kB 4.3 MB/s eta 0:00:01\r\u001b[K     |██████████████████████████████▏ | 368 kB 4.3 MB/s eta 0:00:01\r\u001b[K     |███████████████████████████████ | 378 kB 4.3 MB/s eta 0:00:01\r\u001b[K     |███████████████████████████████▉| 389 kB 4.3 MB/s eta 0:00:01\r\u001b[K     |████████████████████████████████| 390 kB 4.3 MB/s \n",
            "\u001b[?25hRequirement already satisfied: pyarrow>=0.10 in /usr/local/lib/python3.7/dist-packages (from koalas) (6.0.1)\n",
            "Requirement already satisfied: pandas>=0.23.2 in /usr/local/lib/python3.7/dist-packages (from koalas) (1.3.5)\n",
            "Requirement already satisfied: numpy>=1.14 in /usr/local/lib/python3.7/dist-packages (from koalas) (1.21.6)\n",
            "Requirement already satisfied: python-dateutil>=2.7.3 in /usr/local/lib/python3.7/dist-packages (from pandas>=0.23.2->koalas) (2.8.2)\n",
            "Requirement already satisfied: pytz>=2017.3 in /usr/local/lib/python3.7/dist-packages (from pandas>=0.23.2->koalas) (2022.1)\n",
            "Requirement already satisfied: six>=1.5 in /usr/local/lib/python3.7/dist-packages (from python-dateutil>=2.7.3->pandas>=0.23.2->koalas) (1.15.0)\n",
            "Installing collected packages: koalas\n",
            "Successfully installed koalas-1.8.2\n"
          ]
        }
      ],
      "source": [
        "!pip3 install koalas"
      ]
    },
    {
      "cell_type": "code",
      "source": [
        "!pip install pyarrow==0.15.1"
      ],
      "metadata": {
        "colab": {
          "base_uri": "https://localhost:8080/"
        },
        "id": "Eon3iNiAhu-Y",
        "outputId": "1947c3de-dfe4-452d-85d4-a76d5a82f51f"
      },
      "execution_count": 4,
      "outputs": [
        {
          "output_type": "stream",
          "name": "stdout",
          "text": [
            "Collecting pyarrow==0.15.1\n",
            "  Downloading pyarrow-0.15.1-cp37-cp37m-manylinux2010_x86_64.whl (59.2 MB)\n",
            "\u001b[K     |████████████████████████████████| 59.2 MB 1.2 MB/s \n",
            "\u001b[?25hRequirement already satisfied: numpy>=1.14 in /usr/local/lib/python3.7/dist-packages (from pyarrow==0.15.1) (1.21.6)\n",
            "Requirement already satisfied: six>=1.0.0 in /usr/local/lib/python3.7/dist-packages (from pyarrow==0.15.1) (1.15.0)\n",
            "Installing collected packages: pyarrow\n",
            "  Attempting uninstall: pyarrow\n",
            "    Found existing installation: pyarrow 6.0.1\n",
            "    Uninstalling pyarrow-6.0.1:\n",
            "      Successfully uninstalled pyarrow-6.0.1\n",
            "Successfully installed pyarrow-0.15.1\n"
          ]
        }
      ]
    },
    {
      "cell_type": "code",
      "metadata": {
        "id": "iJdCnB7QHihF"
      },
      "source": [
        "!apt-get install openjdk-8-jdk-headless -qq > /dev/null\n",
        "!wget -q https://downloads.apache.org/spark/spark-3.0.3/spark-3.0.3-bin-hadoop3.2.tgz\n",
        "!tar xf spark-3.0.3-bin-hadoop3.2.tgz\n",
        "!pip install -q findspark"
      ],
      "execution_count": 5,
      "outputs": []
    },
    {
      "cell_type": "code",
      "source": [
        ""
      ],
      "metadata": {
        "id": "b_M4qJGNi1wT"
      },
      "execution_count": null,
      "outputs": []
    },
    {
      "cell_type": "code",
      "metadata": {
        "colab": {
          "base_uri": "https://localhost:8080/"
        },
        "id": "TCe3sokXHlCk",
        "outputId": "d5d0b5fc-263d-4c9c-eb9f-6fdf96e6358a"
      },
      "source": [
        "!ls /usr/lib/jvm/"
      ],
      "execution_count": 6,
      "outputs": [
        {
          "output_type": "stream",
          "name": "stdout",
          "text": [
            "default-java\t\t   java-11-openjdk-amd64     java-8-openjdk-amd64\n",
            "java-1.11.0-openjdk-amd64  java-1.8.0-openjdk-amd64\n"
          ]
        }
      ]
    },
    {
      "cell_type": "code",
      "source": [
        "import os\n",
        "os.environ[\"JAVA_HOME\"] = \"/usr/lib/jvm/java-8-openjdk-amd64\"\n",
        "os.environ[\"SPARK_HOME\"] = \"/content/spark-3.0.3-bin-hadoop3.2\""
      ],
      "metadata": {
        "id": "IX25DmdOkVYz"
      },
      "execution_count": 7,
      "outputs": []
    },
    {
      "cell_type": "code",
      "source": [
        "import findspark\n",
        "findspark.init()\n",
        "from pyspark.sql import SparkSession\n",
        "spark = SparkSession.builder.master(\"local[*]\").getOrCreate()"
      ],
      "metadata": {
        "id": "ppL4daQDkYyq"
      },
      "execution_count": 8,
      "outputs": []
    },
    {
      "cell_type": "code",
      "source": [
        "import sys\n",
        "from pyspark.sql.functions import *"
      ],
      "metadata": {
        "id": "ztRsd2eEkb8R"
      },
      "execution_count": 9,
      "outputs": []
    },
    {
      "cell_type": "code",
      "source": [
        "data=spark.read.csv(\"/content/cruise_ship_info.csv\",inferSchema=True,header=True)"
      ],
      "metadata": {
        "id": "yPb8H1IJkkU6"
      },
      "execution_count": 10,
      "outputs": []
    },
    {
      "cell_type": "code",
      "source": [
        "data.show()"
      ],
      "metadata": {
        "colab": {
          "base_uri": "https://localhost:8080/"
        },
        "id": "giB5v4iFlNRy",
        "outputId": "7dfe037e-eab7-4ade-83e8-0b25e56ebb00"
      },
      "execution_count": 11,
      "outputs": [
        {
          "output_type": "stream",
          "name": "stdout",
          "text": [
            "+-----------+-----------+---+------------------+----------+------+------+-----------------+----+\n",
            "|  Ship_name|Cruise_line|Age|           Tonnage|passengers|length|cabins|passenger_density|crew|\n",
            "+-----------+-----------+---+------------------+----------+------+------+-----------------+----+\n",
            "|    Journey|    Azamara|  6|30.276999999999997|      6.94|  5.94|  3.55|            42.64|3.55|\n",
            "|      Quest|    Azamara|  6|30.276999999999997|      6.94|  5.94|  3.55|            42.64|3.55|\n",
            "|Celebration|   Carnival| 26|            47.262|     14.86|  7.22|  7.43|             31.8| 6.7|\n",
            "|   Conquest|   Carnival| 11|             110.0|     29.74|  9.53| 14.88|            36.99|19.1|\n",
            "|    Destiny|   Carnival| 17|           101.353|     26.42|  8.92| 13.21|            38.36|10.0|\n",
            "|    Ecstasy|   Carnival| 22|            70.367|     20.52|  8.55|  10.2|            34.29| 9.2|\n",
            "|    Elation|   Carnival| 15|            70.367|     20.52|  8.55|  10.2|            34.29| 9.2|\n",
            "|    Fantasy|   Carnival| 23|            70.367|     20.56|  8.55| 10.22|            34.23| 9.2|\n",
            "|Fascination|   Carnival| 19|            70.367|     20.52|  8.55|  10.2|            34.29| 9.2|\n",
            "|    Freedom|   Carnival|  6|110.23899999999999|      37.0|  9.51| 14.87|            29.79|11.5|\n",
            "|      Glory|   Carnival| 10|             110.0|     29.74|  9.51| 14.87|            36.99|11.6|\n",
            "|    Holiday|   Carnival| 28|            46.052|     14.52|  7.27|  7.26|            31.72| 6.6|\n",
            "|Imagination|   Carnival| 18|            70.367|     20.52|  8.55|  10.2|            34.29| 9.2|\n",
            "|Inspiration|   Carnival| 17|            70.367|     20.52|  8.55|  10.2|            34.29| 9.2|\n",
            "|     Legend|   Carnival| 11|              86.0|     21.24|  9.63| 10.62|            40.49| 9.3|\n",
            "|   Liberty*|   Carnival|  8|             110.0|     29.74|  9.51| 14.87|            36.99|11.6|\n",
            "|    Miracle|   Carnival|  9|              88.5|     21.24|  9.63| 10.62|            41.67|10.3|\n",
            "|   Paradise|   Carnival| 15|            70.367|     20.52|  8.55|  10.2|            34.29| 9.2|\n",
            "|      Pride|   Carnival| 12|              88.5|     21.24|  9.63| 11.62|            41.67| 9.3|\n",
            "|  Sensation|   Carnival| 20|            70.367|     20.52|  8.55|  10.2|            34.29| 9.2|\n",
            "+-----------+-----------+---+------------------+----------+------+------+-----------------+----+\n",
            "only showing top 20 rows\n",
            "\n"
          ]
        }
      ]
    },
    {
      "cell_type": "code",
      "source": [
        "data.printSchema()"
      ],
      "metadata": {
        "colab": {
          "base_uri": "https://localhost:8080/"
        },
        "id": "USWzue26lQnp",
        "outputId": "6b9b6d81-1868-46f7-8b4e-c484421a260f"
      },
      "execution_count": 12,
      "outputs": [
        {
          "output_type": "stream",
          "name": "stdout",
          "text": [
            "root\n",
            " |-- Ship_name: string (nullable = true)\n",
            " |-- Cruise_line: string (nullable = true)\n",
            " |-- Age: integer (nullable = true)\n",
            " |-- Tonnage: double (nullable = true)\n",
            " |-- passengers: double (nullable = true)\n",
            " |-- length: double (nullable = true)\n",
            " |-- cabins: double (nullable = true)\n",
            " |-- passenger_density: double (nullable = true)\n",
            " |-- crew: double (nullable = true)\n",
            "\n"
          ]
        }
      ]
    },
    {
      "cell_type": "code",
      "source": [
        "from pyspark.ml.linalg import Vectors\n",
        "from pyspark.ml.feature import VectorAssembler"
      ],
      "metadata": {
        "id": "PBh4XMj3lZmo"
      },
      "execution_count": 13,
      "outputs": []
    },
    {
      "cell_type": "code",
      "source": [
        "feat=VectorAssembler(inputCols=[\"Age\",\"Tonnage\",\"passengers\",\"length\",\"cabins\",\"passenger_density\"],outputCol=\"independent\")"
      ],
      "metadata": {
        "id": "IKTwsN5Vl18i"
      },
      "execution_count": 14,
      "outputs": []
    },
    {
      "cell_type": "code",
      "source": [
        "output=feat.transform(data)"
      ],
      "metadata": {
        "id": "Et0HvLRem79M"
      },
      "execution_count": 15,
      "outputs": []
    },
    {
      "cell_type": "code",
      "source": [
        "output.show()"
      ],
      "metadata": {
        "colab": {
          "base_uri": "https://localhost:8080/"
        },
        "id": "zCzD1vqPnC23",
        "outputId": "a893bef3-7617-4b99-e641-6137cbc4de26"
      },
      "execution_count": 16,
      "outputs": [
        {
          "output_type": "stream",
          "name": "stdout",
          "text": [
            "+-----------+-----------+---+------------------+----------+------+------+-----------------+----+--------------------+\n",
            "|  Ship_name|Cruise_line|Age|           Tonnage|passengers|length|cabins|passenger_density|crew|         independent|\n",
            "+-----------+-----------+---+------------------+----------+------+------+-----------------+----+--------------------+\n",
            "|    Journey|    Azamara|  6|30.276999999999997|      6.94|  5.94|  3.55|            42.64|3.55|[6.0,30.276999999...|\n",
            "|      Quest|    Azamara|  6|30.276999999999997|      6.94|  5.94|  3.55|            42.64|3.55|[6.0,30.276999999...|\n",
            "|Celebration|   Carnival| 26|            47.262|     14.86|  7.22|  7.43|             31.8| 6.7|[26.0,47.262,14.8...|\n",
            "|   Conquest|   Carnival| 11|             110.0|     29.74|  9.53| 14.88|            36.99|19.1|[11.0,110.0,29.74...|\n",
            "|    Destiny|   Carnival| 17|           101.353|     26.42|  8.92| 13.21|            38.36|10.0|[17.0,101.353,26....|\n",
            "|    Ecstasy|   Carnival| 22|            70.367|     20.52|  8.55|  10.2|            34.29| 9.2|[22.0,70.367,20.5...|\n",
            "|    Elation|   Carnival| 15|            70.367|     20.52|  8.55|  10.2|            34.29| 9.2|[15.0,70.367,20.5...|\n",
            "|    Fantasy|   Carnival| 23|            70.367|     20.56|  8.55| 10.22|            34.23| 9.2|[23.0,70.367,20.5...|\n",
            "|Fascination|   Carnival| 19|            70.367|     20.52|  8.55|  10.2|            34.29| 9.2|[19.0,70.367,20.5...|\n",
            "|    Freedom|   Carnival|  6|110.23899999999999|      37.0|  9.51| 14.87|            29.79|11.5|[6.0,110.23899999...|\n",
            "|      Glory|   Carnival| 10|             110.0|     29.74|  9.51| 14.87|            36.99|11.6|[10.0,110.0,29.74...|\n",
            "|    Holiday|   Carnival| 28|            46.052|     14.52|  7.27|  7.26|            31.72| 6.6|[28.0,46.052,14.5...|\n",
            "|Imagination|   Carnival| 18|            70.367|     20.52|  8.55|  10.2|            34.29| 9.2|[18.0,70.367,20.5...|\n",
            "|Inspiration|   Carnival| 17|            70.367|     20.52|  8.55|  10.2|            34.29| 9.2|[17.0,70.367,20.5...|\n",
            "|     Legend|   Carnival| 11|              86.0|     21.24|  9.63| 10.62|            40.49| 9.3|[11.0,86.0,21.24,...|\n",
            "|   Liberty*|   Carnival|  8|             110.0|     29.74|  9.51| 14.87|            36.99|11.6|[8.0,110.0,29.74,...|\n",
            "|    Miracle|   Carnival|  9|              88.5|     21.24|  9.63| 10.62|            41.67|10.3|[9.0,88.5,21.24,9...|\n",
            "|   Paradise|   Carnival| 15|            70.367|     20.52|  8.55|  10.2|            34.29| 9.2|[15.0,70.367,20.5...|\n",
            "|      Pride|   Carnival| 12|              88.5|     21.24|  9.63| 11.62|            41.67| 9.3|[12.0,88.5,21.24,...|\n",
            "|  Sensation|   Carnival| 20|            70.367|     20.52|  8.55|  10.2|            34.29| 9.2|[20.0,70.367,20.5...|\n",
            "+-----------+-----------+---+------------------+----------+------+------+-----------------+----+--------------------+\n",
            "only showing top 20 rows\n",
            "\n"
          ]
        }
      ]
    },
    {
      "cell_type": "code",
      "source": [
        "output.select(\"independent\").show()"
      ],
      "metadata": {
        "colab": {
          "base_uri": "https://localhost:8080/"
        },
        "id": "T5WUJJ-WnEhm",
        "outputId": "51a30431-c2ff-4c68-de0c-d22c0472e450"
      },
      "execution_count": 17,
      "outputs": [
        {
          "output_type": "stream",
          "name": "stdout",
          "text": [
            "+--------------------+\n",
            "|         independent|\n",
            "+--------------------+\n",
            "|[6.0,30.276999999...|\n",
            "|[6.0,30.276999999...|\n",
            "|[26.0,47.262,14.8...|\n",
            "|[11.0,110.0,29.74...|\n",
            "|[17.0,101.353,26....|\n",
            "|[22.0,70.367,20.5...|\n",
            "|[15.0,70.367,20.5...|\n",
            "|[23.0,70.367,20.5...|\n",
            "|[19.0,70.367,20.5...|\n",
            "|[6.0,110.23899999...|\n",
            "|[10.0,110.0,29.74...|\n",
            "|[28.0,46.052,14.5...|\n",
            "|[18.0,70.367,20.5...|\n",
            "|[17.0,70.367,20.5...|\n",
            "|[11.0,86.0,21.24,...|\n",
            "|[8.0,110.0,29.74,...|\n",
            "|[9.0,88.5,21.24,9...|\n",
            "|[15.0,70.367,20.5...|\n",
            "|[12.0,88.5,21.24,...|\n",
            "|[20.0,70.367,20.5...|\n",
            "+--------------------+\n",
            "only showing top 20 rows\n",
            "\n"
          ]
        }
      ]
    },
    {
      "cell_type": "code",
      "source": [
        "output.columns"
      ],
      "metadata": {
        "colab": {
          "base_uri": "https://localhost:8080/"
        },
        "id": "t_r8-YeTnOwH",
        "outputId": "269ece23-7652-4364-8cbc-9e39aee34451"
      },
      "execution_count": 18,
      "outputs": [
        {
          "output_type": "execute_result",
          "data": {
            "text/plain": [
              "['Ship_name',\n",
              " 'Cruise_line',\n",
              " 'Age',\n",
              " 'Tonnage',\n",
              " 'passengers',\n",
              " 'length',\n",
              " 'cabins',\n",
              " 'passenger_density',\n",
              " 'crew',\n",
              " 'independent']"
            ]
          },
          "metadata": {},
          "execution_count": 18
        }
      ]
    },
    {
      "cell_type": "code",
      "source": [
        "final_data=output.select(\"independent\",\"crew\")"
      ],
      "metadata": {
        "id": "aBfylJuYnSep"
      },
      "execution_count": 19,
      "outputs": []
    },
    {
      "cell_type": "code",
      "source": [
        "final_data.show()"
      ],
      "metadata": {
        "colab": {
          "base_uri": "https://localhost:8080/"
        },
        "id": "mjDHo-zOnc8Q",
        "outputId": "1b3dc94c-0370-4b18-86a4-6d55bd96e6b9"
      },
      "execution_count": 20,
      "outputs": [
        {
          "output_type": "stream",
          "name": "stdout",
          "text": [
            "+--------------------+----+\n",
            "|         independent|crew|\n",
            "+--------------------+----+\n",
            "|[6.0,30.276999999...|3.55|\n",
            "|[6.0,30.276999999...|3.55|\n",
            "|[26.0,47.262,14.8...| 6.7|\n",
            "|[11.0,110.0,29.74...|19.1|\n",
            "|[17.0,101.353,26....|10.0|\n",
            "|[22.0,70.367,20.5...| 9.2|\n",
            "|[15.0,70.367,20.5...| 9.2|\n",
            "|[23.0,70.367,20.5...| 9.2|\n",
            "|[19.0,70.367,20.5...| 9.2|\n",
            "|[6.0,110.23899999...|11.5|\n",
            "|[10.0,110.0,29.74...|11.6|\n",
            "|[28.0,46.052,14.5...| 6.6|\n",
            "|[18.0,70.367,20.5...| 9.2|\n",
            "|[17.0,70.367,20.5...| 9.2|\n",
            "|[11.0,86.0,21.24,...| 9.3|\n",
            "|[8.0,110.0,29.74,...|11.6|\n",
            "|[9.0,88.5,21.24,9...|10.3|\n",
            "|[15.0,70.367,20.5...| 9.2|\n",
            "|[12.0,88.5,21.24,...| 9.3|\n",
            "|[20.0,70.367,20.5...| 9.2|\n",
            "+--------------------+----+\n",
            "only showing top 20 rows\n",
            "\n"
          ]
        }
      ]
    },
    {
      "cell_type": "code",
      "source": [
        "train,test=final_data.randomSplit([0.80,0.20])"
      ],
      "metadata": {
        "id": "JdmIuW2infF3"
      },
      "execution_count": 21,
      "outputs": []
    },
    {
      "cell_type": "code",
      "source": [
        "train.show()"
      ],
      "metadata": {
        "colab": {
          "base_uri": "https://localhost:8080/"
        },
        "id": "KPbMLkvMno6P",
        "outputId": "80b45472-3871-43bf-8493-7f82b04c1d7a"
      },
      "execution_count": 22,
      "outputs": [
        {
          "output_type": "stream",
          "name": "stdout",
          "text": [
            "+--------------------+-----+\n",
            "|         independent| crew|\n",
            "+--------------------+-----+\n",
            "|[4.0,220.0,54.0,1...| 21.0|\n",
            "|[5.0,86.0,21.04,9...|  8.0|\n",
            "|[5.0,122.0,28.5,1...|  6.7|\n",
            "|[5.0,133.5,39.59,...|13.13|\n",
            "|[5.0,160.0,36.34,...| 13.6|\n",
            "|[6.0,30.276999999...| 3.55|\n",
            "|[6.0,90.0,20.0,9....|  9.0|\n",
            "|[6.0,110.23899999...| 11.5|\n",
            "|[6.0,112.0,38.0,9...| 10.9|\n",
            "|[6.0,113.0,37.82,...| 12.0|\n",
            "|[6.0,158.0,43.7,1...| 13.6|\n",
            "|[7.0,89.6,25.5,9....| 9.87|\n",
            "|[7.0,116.0,31.0,9...| 12.0|\n",
            "|[7.0,158.0,43.7,1...| 13.6|\n",
            "|[8.0,91.0,22.44,9...| 11.0|\n",
            "|[8.0,110.0,29.74,...| 11.6|\n",
            "|[9.0,90.09,25.01,...| 8.69|\n",
            "|[9.0,105.0,27.2,8...|10.68|\n",
            "|[9.0,110.0,29.74,...| 11.6|\n",
            "|[9.0,113.0,26.74,...|12.38|\n",
            "+--------------------+-----+\n",
            "only showing top 20 rows\n",
            "\n"
          ]
        }
      ]
    },
    {
      "cell_type": "code",
      "source": [
        "test.show()"
      ],
      "metadata": {
        "colab": {
          "base_uri": "https://localhost:8080/"
        },
        "id": "HOOy2s0Bnqgk",
        "outputId": "316d60d1-5a41-4682-bda9-8aab9cfe7ebb"
      },
      "execution_count": 23,
      "outputs": [
        {
          "output_type": "stream",
          "name": "stdout",
          "text": [
            "+--------------------+-----+\n",
            "|         independent| crew|\n",
            "+--------------------+-----+\n",
            "|[5.0,115.0,35.74,...| 12.2|\n",
            "|[6.0,30.276999999...| 3.55|\n",
            "|[6.0,93.0,23.94,9...|11.09|\n",
            "|[8.0,77.499,19.5,...|  9.0|\n",
            "|[9.0,59.058,17.0,...|  7.4|\n",
            "|[9.0,81.0,21.44,9...| 10.0|\n",
            "|[9.0,85.0,19.68,9...| 8.69|\n",
            "|[9.0,88.5,21.24,9...| 10.3|\n",
            "|[9.0,113.0,26.74,...|12.38|\n",
            "|[10.0,68.0,10.8,7...| 6.36|\n",
            "|[10.0,86.0,21.14,...|  9.2|\n",
            "|[10.0,110.0,29.74...| 11.6|\n",
            "|[11.0,91.62700000...|  9.0|\n",
            "|[11.0,110.0,29.74...| 19.1|\n",
            "|[12.0,91.0,20.32,...| 9.99|\n",
            "|[12.0,138.0,31.14...|11.85|\n",
            "|[13.0,91.0,20.32,...| 9.99|\n",
            "|[14.0,33.0,4.9,5....| 3.24|\n",
            "|[15.0,75.33800000...| 13.0|\n",
            "|[16.0,78.491,24.3...| 7.65|\n",
            "+--------------------+-----+\n",
            "only showing top 20 rows\n",
            "\n"
          ]
        }
      ]
    },
    {
      "cell_type": "code",
      "source": [
        "from pyspark.ml.regression import LinearRegression"
      ],
      "metadata": {
        "id": "4zAgp2pvnuFw"
      },
      "execution_count": 24,
      "outputs": []
    },
    {
      "cell_type": "code",
      "source": [
        "reg=LinearRegression(featuresCol=\"independent\",labelCol=\"crew\")"
      ],
      "metadata": {
        "id": "kmWuOlNRn1u-"
      },
      "execution_count": 25,
      "outputs": []
    },
    {
      "cell_type": "code",
      "source": [
        "reg=reg.fit(train)"
      ],
      "metadata": {
        "id": "iCcFqRavoEVu"
      },
      "execution_count": 26,
      "outputs": []
    },
    {
      "cell_type": "code",
      "source": [
        "reg.coefficients"
      ],
      "metadata": {
        "colab": {
          "base_uri": "https://localhost:8080/"
        },
        "id": "ee7esCe0oHV2",
        "outputId": "e0a442f7-ae4e-4723-de96-522c03ec23ed"
      },
      "execution_count": 27,
      "outputs": [
        {
          "output_type": "execute_result",
          "data": {
            "text/plain": [
              "DenseVector([-0.0066, 0.0165, -0.1248, 0.4187, 0.7043, -0.002])"
            ]
          },
          "metadata": {},
          "execution_count": 27
        }
      ]
    },
    {
      "cell_type": "code",
      "source": [
        "reg.intercept"
      ],
      "metadata": {
        "colab": {
          "base_uri": "https://localhost:8080/"
        },
        "id": "J9LTeXS5oKUX",
        "outputId": "b6dff88e-8061-458d-8af0-d44b0936eded"
      },
      "execution_count": 28,
      "outputs": [
        {
          "output_type": "execute_result",
          "data": {
            "text/plain": [
              "-0.596919059520528"
            ]
          },
          "metadata": {},
          "execution_count": 28
        }
      ]
    },
    {
      "cell_type": "code",
      "source": [
        "train_sum=reg.summary"
      ],
      "metadata": {
        "id": "mZimR3epoMZW"
      },
      "execution_count": 29,
      "outputs": []
    },
    {
      "cell_type": "code",
      "source": [
        "train_sum.rootMeanSquaredError"
      ],
      "metadata": {
        "colab": {
          "base_uri": "https://localhost:8080/"
        },
        "id": "_AXSPQmYody2",
        "outputId": "f8afd9e9-f9f1-436d-d796-2714f2e3c0fc"
      },
      "execution_count": 31,
      "outputs": [
        {
          "output_type": "execute_result",
          "data": {
            "text/plain": [
              "0.7135342183789438"
            ]
          },
          "metadata": {},
          "execution_count": 31
        }
      ]
    },
    {
      "cell_type": "code",
      "source": [
        "train_sum.r2"
      ],
      "metadata": {
        "colab": {
          "base_uri": "https://localhost:8080/"
        },
        "id": "B2D_ElJSohqu",
        "outputId": "3ad86294-0a7a-46f2-dadd-ca25daa39c87"
      },
      "execution_count": 32,
      "outputs": [
        {
          "output_type": "execute_result",
          "data": {
            "text/plain": [
              "0.9575128670646698"
            ]
          },
          "metadata": {},
          "execution_count": 32
        }
      ]
    },
    {
      "cell_type": "code",
      "source": [
        "train_sum.r2adj"
      ],
      "metadata": {
        "colab": {
          "base_uri": "https://localhost:8080/"
        },
        "id": "al_Epi66once",
        "outputId": "0926565a-2201-444e-883a-7969c7cfd7d1"
      },
      "execution_count": 33,
      "outputs": [
        {
          "output_type": "execute_result",
          "data": {
            "text/plain": [
              "0.9553340397346528"
            ]
          },
          "metadata": {},
          "execution_count": 33
        }
      ]
    },
    {
      "cell_type": "code",
      "source": [
        "pred=reg.evaluate(test)"
      ],
      "metadata": {
        "id": "rITndUQFor-W"
      },
      "execution_count": 34,
      "outputs": []
    },
    {
      "cell_type": "code",
      "source": [
        "pred.predictions.show()"
      ],
      "metadata": {
        "colab": {
          "base_uri": "https://localhost:8080/"
        },
        "id": "frpgfJmQoxEG",
        "outputId": "8958b4a5-af51-41eb-f6d0-f4b6f1693ef4"
      },
      "execution_count": 35,
      "outputs": [
        {
          "output_type": "stream",
          "name": "stdout",
          "text": [
            "+--------------------+-----+------------------+\n",
            "|         independent| crew|        prediction|\n",
            "+--------------------+-----+------------------+\n",
            "|[5.0,115.0,35.74,...| 12.2|11.302259546238174|\n",
            "|[6.0,30.276999999...| 3.55|3.8996148147663403|\n",
            "|[6.0,93.0,23.94,9...|11.09|10.304748532385274|\n",
            "|[8.0,77.499,19.5,...|  9.0| 8.567961770023214|\n",
            "|[9.0,59.058,17.0,...|  7.4|7.3089323531692605|\n",
            "|[9.0,81.0,21.44,9...| 10.0| 9.336203773345696|\n",
            "|[9.0,85.0,19.68,9...| 8.69| 9.050075982191895|\n",
            "|[9.0,88.5,21.24,9...| 10.3| 9.582766277505204|\n",
            "|[9.0,113.0,26.74,...|12.38|11.186337538070083|\n",
            "|[10.0,68.0,10.8,7...| 6.36| 6.168039948749584|\n",
            "|[10.0,86.0,21.14,...|  9.2| 9.494460279825315|\n",
            "|[10.0,110.0,29.74...| 11.6|11.822556181890292|\n",
            "|[11.0,91.62700000...|  9.0| 9.274925193221536|\n",
            "|[11.0,110.0,29.74...| 19.1| 11.83133647891337|\n",
            "|[12.0,91.0,20.32,...| 9.99| 9.108452448592697|\n",
            "|[12.0,138.0,31.14...|11.85|12.864436757014532|\n",
            "|[13.0,91.0,20.32,...| 9.99|  9.10181568859402|\n",
            "|[14.0,33.0,4.9,5....| 3.24|3.1799384249193414|\n",
            "|[15.0,75.33800000...| 13.0| 8.633383375862126|\n",
            "|[16.0,78.491,24.3...| 7.65| 8.363815287672287|\n",
            "+--------------------+-----+------------------+\n",
            "only showing top 20 rows\n",
            "\n"
          ]
        }
      ]
    },
    {
      "cell_type": "code",
      "source": [
        "from pyspark.ml.regression import RandomForestRegressor"
      ],
      "metadata": {
        "id": "7kaNoVAto1TO"
      },
      "execution_count": 36,
      "outputs": []
    },
    {
      "cell_type": "code",
      "source": [
        "rf=RandomForestRegressor(featuresCol=\"independent\",labelCol=\"crew\")"
      ],
      "metadata": {
        "id": "DdO0XRn9pOms"
      },
      "execution_count": 37,
      "outputs": []
    },
    {
      "cell_type": "code",
      "source": [
        "rfmodel=rf.fit(train)"
      ],
      "metadata": {
        "id": "yoqnFzuJpjh2"
      },
      "execution_count": 38,
      "outputs": []
    },
    {
      "cell_type": "code",
      "source": [
        "predictions=rfmodel.transform(test)"
      ],
      "metadata": {
        "id": "IQ2RUuvKpok-"
      },
      "execution_count": 39,
      "outputs": []
    },
    {
      "cell_type": "code",
      "metadata": {
        "id": "7mczzHs8O7GV"
      },
      "source": [
        "from pyspark.ml.evaluation import RegressionEvaluator # Evaluate Regression model"
      ],
      "execution_count": 41,
      "outputs": []
    },
    {
      "cell_type": "code",
      "source": [
        "evaluator=RegressionEvaluator(labelCol=\"crew\",predictionCol=\"prediction\",metricName=\"r2\")\n",
        "r2=evaluator.evaluate(predictions)\n",
        "print(\"r2 on test data=%g\"%r2)"
      ],
      "metadata": {
        "colab": {
          "base_uri": "https://localhost:8080/"
        },
        "id": "LXykkMq8qbjG",
        "outputId": "04a8c649-06a5-4dac-ccf2-546bead670b7"
      },
      "execution_count": 42,
      "outputs": [
        {
          "output_type": "stream",
          "name": "stdout",
          "text": [
            "r2 on test data=0.807392\n"
          ]
        }
      ]
    },
    {
      "cell_type": "code",
      "source": [
        "from pyspark.ml.regression import DecisionTreeRegressor"
      ],
      "metadata": {
        "id": "F4V9Kvv-rkkk"
      },
      "execution_count": 48,
      "outputs": []
    },
    {
      "cell_type": "code",
      "source": [
        "dt = DecisionTreeRegressor(featuresCol=\"independent\",labelCol=\"crew\")"
      ],
      "metadata": {
        "id": "VOfa0NGTudg0"
      },
      "execution_count": 49,
      "outputs": []
    },
    {
      "cell_type": "code",
      "source": [
        "dt=dt.fit(train)"
      ],
      "metadata": {
        "id": "yH3-5YkoujPj"
      },
      "execution_count": 50,
      "outputs": []
    },
    {
      "cell_type": "code",
      "source": [
        "dtpred = dt.transform(test)"
      ],
      "metadata": {
        "id": "FfQCgnNQuki6"
      },
      "execution_count": 51,
      "outputs": []
    },
    {
      "cell_type": "code",
      "source": [
        "dtpred.show()"
      ],
      "metadata": {
        "colab": {
          "base_uri": "https://localhost:8080/"
        },
        "id": "r9KSN-3Ful8a",
        "outputId": "5f1917c3-2a55-40b0-c2a3-182c0dac77df"
      },
      "execution_count": 52,
      "outputs": [
        {
          "output_type": "stream",
          "name": "stdout",
          "text": [
            "+--------------------+-----+------------------+\n",
            "|         independent| crew|        prediction|\n",
            "+--------------------+-----+------------------+\n",
            "|[5.0,115.0,35.74,...| 12.2|11.619999999999997|\n",
            "|[6.0,30.276999999...| 3.55|3.9511111111111106|\n",
            "|[6.0,93.0,23.94,9...|11.09|             11.25|\n",
            "|[8.0,77.499,19.5,...|  9.0| 9.067222222222222|\n",
            "|[9.0,59.058,17.0,...|  7.4| 6.536666666666666|\n",
            "|[9.0,81.0,21.44,9...| 10.0| 9.067222222222222|\n",
            "|[9.0,85.0,19.68,9...| 8.69| 9.067222222222222|\n",
            "|[9.0,88.5,21.24,9...| 10.3| 9.067222222222222|\n",
            "|[9.0,113.0,26.74,...|12.38|11.619999999999997|\n",
            "|[10.0,68.0,10.8,7...| 6.36|              5.45|\n",
            "|[10.0,86.0,21.14,...|  9.2| 9.067222222222222|\n",
            "|[10.0,110.0,29.74...| 11.6|11.619999999999997|\n",
            "|[11.0,91.62700000...|  9.0| 9.990000000000002|\n",
            "|[11.0,110.0,29.74...| 19.1|11.619999999999997|\n",
            "|[12.0,91.0,20.32,...| 9.99| 9.990000000000002|\n",
            "|[12.0,138.0,31.14...|11.85|11.619999999999997|\n",
            "|[13.0,91.0,20.32,...| 9.99| 9.990000000000002|\n",
            "|[14.0,33.0,4.9,5....| 3.24|               4.6|\n",
            "|[15.0,75.33800000...| 13.0| 9.067222222222222|\n",
            "|[16.0,78.491,24.3...| 7.65| 7.633333333333333|\n",
            "+--------------------+-----+------------------+\n",
            "only showing top 20 rows\n",
            "\n"
          ]
        }
      ]
    },
    {
      "cell_type": "code",
      "source": [
        "dtpred = dt.transform(train)"
      ],
      "metadata": {
        "id": "LRsgvIQSunpm"
      },
      "execution_count": 53,
      "outputs": []
    },
    {
      "cell_type": "code",
      "source": [
        "evaluator = RegressionEvaluator(\n",
        "    labelCol=\"crew\", predictionCol=\"prediction\", metricName=\"rmse\")\n",
        "rmse = evaluator.evaluate(dtpred)\n",
        "print (\"Root Mean Squared Error (RMSE) on train data = %g\" % rmse)"
      ],
      "metadata": {
        "colab": {
          "base_uri": "https://localhost:8080/"
        },
        "id": "Hm93bvhaupty",
        "outputId": "9a5bab96-55dc-485d-dba4-519d266fffd8"
      },
      "execution_count": 54,
      "outputs": [
        {
          "output_type": "stream",
          "name": "stdout",
          "text": [
            "Root Mean Squared Error (RMSE) on train data = 0.512577\n"
          ]
        }
      ]
    },
    {
      "cell_type": "code",
      "source": [
        "evaluator = RegressionEvaluator(\n",
        "    labelCol=\"crew\", predictionCol=\"prediction\", metricName=\"r2\")\n",
        "r2 = evaluator.evaluate(dtpred)\n",
        "print (\"Root Mean Squared Error (RMSE) on train data = %g\" % r2)"
      ],
      "metadata": {
        "colab": {
          "base_uri": "https://localhost:8080/"
        },
        "id": "8ry_oYtTuuM7",
        "outputId": "3ae90187-f254-43c3-e6e6-77dff7f83590"
      },
      "execution_count": 55,
      "outputs": [
        {
          "output_type": "stream",
          "name": "stdout",
          "text": [
            "Root Mean Squared Error (RMSE) on train data = 0.978075\n"
          ]
        }
      ]
    },
    {
      "cell_type": "code",
      "source": [
        "evaluator = RegressionEvaluator(\n",
        "    labelCol=\"crew\", predictionCol=\"prediction\", metricName=\"r2\")\n",
        "r2 = evaluator.evaluate(dtpred)\n",
        "print (\"r2 on test data = %g\" % r2)"
      ],
      "metadata": {
        "colab": {
          "base_uri": "https://localhost:8080/"
        },
        "id": "shBB6gj7u1Ij",
        "outputId": "9fd91266-325a-4c86-dea7-189bba1e672f"
      },
      "execution_count": 56,
      "outputs": [
        {
          "output_type": "stream",
          "name": "stdout",
          "text": [
            "r2 on test data = 0.978075\n"
          ]
        }
      ]
    },
    {
      "cell_type": "code",
      "source": [
        ""
      ],
      "metadata": {
        "id": "kE5IeTWju6ck"
      },
      "execution_count": null,
      "outputs": []
    }
  ]
}